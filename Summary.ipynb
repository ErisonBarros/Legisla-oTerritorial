{
  "nbformat": 4,
  "nbformat_minor": 0,
  "metadata": {
    "colab": {
      "name": "Summary.ipynb",
      "provenance": [],
      "authorship_tag": "ABX9TyPY2ev0t9Dwp7Mw2rld+IhG",
      "include_colab_link": true
    },
    "kernelspec": {
      "name": "python3",
      "display_name": "Python 3"
    },
    "language_info": {
      "name": "python"
    }
  },
  "cells": [
    {
      "cell_type": "markdown",
      "metadata": {
        "id": "view-in-github",
        "colab_type": "text"
      },
      "source": [
        "<a href=\"https://colab.research.google.com/github/ErisonBarros/LegislacaoTerritorial/blob/master/Summary.ipynb\" target=\"_parent\"><img src=\"https://colab.research.google.com/assets/colab-badge.svg\" alt=\"Open In Colab\"/></a>"
      ]
    },
    {
      "cell_type": "markdown",
      "source": [
        "# Table of contents\n",
        "\n",
        "* [Plano de Aula](README.md)\n",
        "* [Google Classroom](google-classroom.md)\n",
        "\n",
        "## I UNIDADE\n",
        "\n",
        "* [1. DIREITO DAS COISAS](i-unidade/readme-8.md)\n",
        "* [As fundamentações do Direito Registral para Certificação de Imóveis Rurais](i-unidade/as-fundamentacoes-do-direito-registral-para-certificacao-de-imoveis-rurais.md)\n",
        "* [Aquisição de Propriedade](i-unidade/aquisicao-de-propriedade.md)\n",
        "* [Tipos de Legislação](i-unidade/untitled-1/README.md)\n",
        "  * [Coletânea com a Legislação da  Cartografia Nacional](i-unidade/untitled-1/readme4.md)\n",
        "  * [Time Line  da Legislação Referente a Cartografia](i-unidade/untitled-1/time-line-da-legislacao-referente-a-cartografia.md)\n",
        "  * [Legislação ambiental](i-unidade/untitled-1/readme2.md)\n",
        "* [Direito das Coisas](i-unidade/readme3.md)\n",
        "* [Os Bens](i-unidade/readme5/README.md)\n",
        "  * [Tipos de Bens](i-unidade/readme5/readme-7.md)\n",
        "  * [Bens Públicos existentes no Brasil](i-unidade/readme5/readme-6.md)\n",
        "* [Estatuto da Cidade](i-unidade/estatuto-da-cidade.md)\n",
        "* [Uso do Solo](i-unidade/readme-10.md)\n",
        "* [Legislação Territorial](i-unidade/redme.md)\n",
        "* [Video sobre Usocapião](i-unidade/welcome-file.2.md)\n",
        "* [Legislação Ambiental](i-unidade/legislacao-ambiental.md)\n",
        "\n",
        "## II UNIDADE\n",
        "\n",
        "* [Regularização Fundiária Rural de Terras Públicas Federais Rurais](ii-unidade/regularizacao-fundiaria-rural/README.md)\n",
        "  * [Sumário](ii-unidade/regularizacao-fundiaria-rural/sumario.md)\n",
        "  * [1. Introdução](ii-unidade/regularizacao-fundiaria-rural/1.-introducao/README.md)\n",
        "    * [1.2. Índices básicos](ii-unidade/regularizacao-fundiaria-rural/1.-introducao/1.2.-indices-basicos.md)\n",
        "    * [1.4. Base Legal da Regularização Fundiária em Terras Públicas Federais Rurais](ii-unidade/regularizacao-fundiaria-rural/1.-introducao/1.4.-base-legal-da-regularizacao-fundiaria-em-terras-publicas-federais-rurais.md)\n",
        "  * [2. Conceitos Básicos](ii-unidade/regularizacao-fundiaria-rural/2.-conceitos-basicos.md)\n",
        "  * [3. Tipos de documentos](ii-unidade/regularizacao-fundiaria-rural/3.-tipos-de-documentos.md)\n",
        "  * [4. Regularização fundiária em terras públicas federais rurais](ii-unidade/regularizacao-fundiaria-rural/4.-regularizacao-fundiaria-em-terras-publicas-federais-rurais/README.md)\n",
        "    * [4.2. Requisitos para a regularização](ii-unidade/regularizacao-fundiaria-rural/4.-regularizacao-fundiaria-em-terras-publicas-federais-rurais/4.2.-requisitos-para-a-regularizacao.md)\n",
        "  * [5. Valores e forma de pagamento](ii-unidade/regularizacao-fundiaria-rural/5.-valores-e-forma-de-pagamento.md)\n",
        "  * [6. SIGEF-TITUÇÃO: O que é e para que serve?](ii-unidade/regularizacao-fundiaria-rural/6.-sigef-titucao-o-que-e-e-para-que-serve/README.md)\n",
        "    * [6.1. Como cadastrar a solicitação no SIGEF-TITULAÇÃO](ii-unidade/regularizacao-fundiaria-rural/6.-sigef-titucao-o-que-e-e-para-que-serve/6.1.-como-cadastrar-a-solicitacao-no-sigef-titulacao/README.md)\n",
        "      * [6.1.1. Requerimento sem georreferenciamento da ocupação](ii-unidade/regularizacao-fundiaria-rural/6.-sigef-titucao-o-que-e-e-para-que-serve/6.1.-como-cadastrar-a-solicitacao-no-sigef-titulacao/6.1.1.-requerimento-sem-georreferenciamento-da-ocupacao/README.md)\n",
        "        * [6.1.2. Requerimento com ocupação georreferenciada e incluída no Sigef:](ii-unidade/regularizacao-fundiaria-rural/6.-sigef-titucao-o-que-e-e-para-que-serve/6.1.-como-cadastrar-a-solicitacao-no-sigef-titulacao/6.1.1.-requerimento-sem-georreferenciamento-da-ocupacao/6.1.2.-requerimento-com-ocupacao-georreferenciada-e-incluida-no-sigef.md)\n",
        "\n",
        "---\n",
        "\n",
        "* [Legislação para Drones](legislacao-para-drones.md)\n",
        "* [Direito Urbanístico](untitled-1.md)\n",
        "* [Dos direitos de vizinhança](untitled.md)\n"
      ],
      "metadata": {
        "id": "Waq9aYs1J2K-"
      }
    },
    {
      "cell_type": "code",
      "execution_count": null,
      "metadata": {
        "id": "7p8wGgg6J1CJ"
      },
      "outputs": [],
      "source": [
        ""
      ]
    }
  ]
}