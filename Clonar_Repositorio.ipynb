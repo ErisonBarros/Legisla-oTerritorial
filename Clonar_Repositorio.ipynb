{
  "nbformat": 4,
  "nbformat_minor": 0,
  "metadata": {
    "colab": {
      "name": "Clonar Repositorio.ipynb",
      "provenance": [],
      "authorship_tag": "ABX9TyP3sfJiSCfXAnOPJWORfaIQ",
      "include_colab_link": true
    },
    "kernelspec": {
      "name": "python3",
      "display_name": "Python 3"
    },
    "language_info": {
      "name": "python"
    }
  },
  "cells": [
    {
      "cell_type": "markdown",
      "metadata": {
        "id": "view-in-github",
        "colab_type": "text"
      },
      "source": [
        "<a href=\"https://colab.research.google.com/github/ErisonBarros/LegislacaoTerritorial/blob/master/Clonar_Repositorio.ipynb\" target=\"_parent\"><img src=\"https://colab.research.google.com/assets/colab-badge.svg\" alt=\"Open In Colab\"/></a>"
      ]
    },
    {
      "cell_type": "markdown",
      "source": [
        "# Clonar Repositorio no Drive"
      ],
      "metadata": {
        "id": "yHPXwYgwCKGf"
      }
    },
    {
      "cell_type": "code",
      "source": [
        "# Clone the entire repo.\n",
        "!git clone -l -s https://github.com/ErisonBarros/LegislacaoTerritorial.git cloned-repo\n",
        "%cd cloned-repo\n",
        "!ls"
      ],
      "metadata": {
        "colab": {
          "base_uri": "https://localhost:8080/"
        },
        "id": "fxWEx6MBCrAL",
        "outputId": "70595c79-7d41-4186-bceb-b58cc54594d5"
      },
      "execution_count": 1,
      "outputs": [
        {
          "output_type": "stream",
          "name": "stdout",
          "text": [
            "Cloning into 'cloned-repo'...\n",
            "warning: --local is ignored\n",
            "remote: Enumerating objects: 1497, done.\u001b[K\n",
            "remote: Counting objects: 100% (705/705), done.\u001b[K\n",
            "remote: Compressing objects: 100% (374/374), done.\u001b[K\n",
            "remote: Total 1497 (delta 421), reused 535 (delta 313), pack-reused 792\u001b[K\n",
            "Receiving objects: 100% (1497/1497), 37.95 MiB | 7.19 MiB/s, done.\n",
            "Resolving deltas: 100% (953/953), done.\n",
            "/content/cloned-repo\n",
            " aquisicao-de-propriedade.md\n",
            " as-fundamentacoes-do-direito-registral-para-certificacao-de-imoveis-rurais.md\n",
            "'Bens Públicos 1.md'\n",
            "'Bens Públicos existentes no Brasil.md'\n",
            "'Coletânea com a Legislação da Cartografia Nacional.md'\n",
            " _config.yml\n",
            "'Direito Agrário'\n",
            "'Direito das Coias.md'\n",
            "'DIREITO DAS COISAS.md'\n",
            "'Direito Urbanístico.md'\n",
            "'Dos direitos de vizinhança.md'\n",
            " estatuto-da-cidade.md\n",
            "'Estatuto da Cidade.md'\n",
            "'Estrutura do Direito das Coisas.md'\n",
            " google-classroom.md\n",
            " ii-unidade\n",
            " Indices.ipynb\n",
            " info.md\n",
            " INFORMAÇÃO.md\n",
            " Inicio\n",
            " Introdução.ipynb\n",
            " i-unidade\n",
            "'Legislação Ambiental.md'\n",
            " legislacao-para-drones.md\n",
            "'Lei de Uso e Ocupação do Solo.md'\n",
            "'Os Bens.md'\n",
            " pagina-de-check.md\n",
            " readme2.md\n",
            " readme3.md\n",
            " README4.md\n",
            " readme5\n",
            " readme5.md\n",
            " readme-7\n",
            " readme-7.md\n",
            " README.md\n",
            " REDME.md\n",
            " SUMMARY.md\n",
            "'Terrenos de Marinha.md'\n",
            " untitled\n",
            "'Welcome file.1.md'\n",
            " welcome-file.2.md\n",
            "'Welcome file.2.md'\n",
            "'Welcome file.3.md'\n",
            "'Welcome file.md'\n"
          ]
        }
      ]
    },
    {
      "cell_type": "markdown",
      "source": [
        "# Nova seção"
      ],
      "metadata": {
        "id": "tPaXkeMgCMDY"
      }
    },
    {
      "cell_type": "code",
      "source": [
        "# Fetch a single <1MB file using the raw GitHub URL.\n",
        "!curl --remote-name \\\n",
        "     -H 'Accept: application/vnd.github.v3.raw' \\\n",
        "     --location https://api.github.com/repos/jakevdp/PythonDataScienceHandbook/contents/notebooks/data/california_cities.csv"
      ],
      "metadata": {
        "id": "AmyPF0ODCvrb"
      },
      "execution_count": null,
      "outputs": []
    },
    {
      "cell_type": "markdown",
      "source": [
        "# Nova seção"
      ],
      "metadata": {
        "id": "LuZuHuRUCMef"
      }
    }
  ]
}