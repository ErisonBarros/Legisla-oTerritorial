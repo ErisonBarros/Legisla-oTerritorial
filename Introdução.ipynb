{
  "nbformat": 4,
  "nbformat_minor": 0,
  "metadata": {
    "colab": {
      "name": "Introdução.ipynb",
      "provenance": [],
      "collapsed_sections": [],
      "authorship_tag": "ABX9TyPsX6IT9IWWNi+Wm3LleI1r",
      "include_colab_link": true
    },
    "kernelspec": {
      "name": "python3",
      "display_name": "Python 3"
    },
    "language_info": {
      "name": "python"
    }
  },
  "cells": [
    {
      "cell_type": "markdown",
      "metadata": {
        "id": "view-in-github",
        "colab_type": "text"
      },
      "source": [
        "<a href=\"https://colab.research.google.com/github/ErisonBarros/LegislacaoTerritorial/blob/master/Introdu%C3%A7%C3%A3o.ipynb\" target=\"_parent\"><img src=\"https://colab.research.google.com/assets/colab-badge.svg\" alt=\"Open In Colab\"/></a>"
      ]
    },
    {
      "cell_type": "markdown",
      "source": [
        "# Legislação Territorial\n",
        "\n",
        "| Código  |  Nome |Tipo  |  Crédito |\n",
        "| :------------: | :------------: | :------------: | :------------: |\n",
        "| CA 471  | Legislação Territorial  |   |   |\n",
        "\n",
        "\n",
        "## Ementa\n",
        "- Direito das Coisas;\n",
        "- Direito Civil;\n",
        "- Direito Urbanístico;\n",
        "- Direito Agrário;\n",
        "- Legislação Cartográfica;\n",
        "- Legislação Profissional;\n",
        "- Legislação Ambiental;\n",
        "- Normas técnicas.\n"
      ],
      "metadata": {
        "id": "AUn37Wd59hzU"
      }
    },
    {
      "cell_type": "markdown",
      "source": [
        ""
      ],
      "metadata": {
        "id": "TM6B2oYg9vaV"
      }
    }
  ]
}