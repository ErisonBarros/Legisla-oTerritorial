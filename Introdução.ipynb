{
  "nbformat": 4,
  "nbformat_minor": 0,
  "metadata": {
    "colab": {
      "name": "Introdução.ipynb",
      "provenance": [],
      "collapsed_sections": [],
      "authorship_tag": "ABX9TyMg8RfEv16CGOhrfqgs3Nq5",
      "include_colab_link": true
    },
    "kernelspec": {
      "name": "python3",
      "display_name": "Python 3"
    },
    "language_info": {
      "name": "python"
    }
  },
  "cells": [
    {
      "cell_type": "markdown",
      "metadata": {
        "id": "view-in-github",
        "colab_type": "text"
      },
      "source": [
        "<a href=\"https://colab.research.google.com/github/ErisonBarros/LegislacaoTerritorial/blob/master/Introdu%C3%A7%C3%A3o.ipynb\" target=\"_parent\"><img src=\"https://colab.research.google.com/assets/colab-badge.svg\" alt=\"Open In Colab\"/></a>"
      ]
    },
    {
      "cell_type": "markdown",
      "source": [
        "# Legislação Territorial\n",
        "\n",
        "| Código  |  Nome |Tipo  |  Crédito |\n",
        "| :------------: | :------------: | :------------: | :------------: |\n",
        "| CA 471  | Legislação Territorial  |   |   |\n",
        "\n",
        "\n",
        "## Ementa\n",
        "- [Direito das Coisas](xxxxxxxxxxxxxxxxxxxxxx);\n",
        "- [Direito Civil](xxxxxxxxxxxxxxxxxxxxxx);\n",
        "- [Direito Urbanístico](xxxxxxxxxxxxxxxxxxxxxx);\n",
        "- [Direito Agrário](xxxxxxxxxxxxxxxxxxxxxx);\n",
        "- [Legislação Cartográfica](xxxxxxxxxxxxxxxxxxxxxx);\n",
        "- [Legislação Profissional](xxxxxxxxxxxxxxxxxxxxxx);\n",
        "- [Legislação Ambiental](xxxxxxxxxxxxxxxxxxxxxx);\n",
        "- [Normas técnicas](xxxxxxxxxxxxxxxxxxxxxx).\n",
        "\n",
        "## OBJETIVOS\n",
        "1. Fornecer aos alunos os conhecimentos necessários referentes a legislação territorial;\n",
        "1. Capacitar aos alunos para buscar o mecanismos legais de adaptação a projetos a legislação territorial brasileira.\n",
        "1. Dar subicidios a trabalhar em casos de estudo de perícias judiciais. \n",
        "\n",
        "## METODOLOGIA\n",
        "\n",
        "As atividades síncronas e assíncronas, desenvolvidas em ambiente virtual, remotamente. As síncronas, que totalizarão 33,3%, serão 12 atividades  (2 horas/ aulas por semana) serão feitas remotamente, através de encontros virtuais previamente agendados, disponibilizados no siga, que serão feitos usando a ferramenta Google Meet. Nessas atividades síncronas o professor  apresentará a parte teórica e esclarecerá sobre estudos e os trabalhos . Esses encontros síncronos também poderão ser utilizados para apresentação dos trabalhos dos estudantes utilizando o Meet. Nas atividades assíncronas, que totalizarão 66,6%, serão  (4 horas/aulas por semana) os alunos deverão complementar estudos e resolver os trabalhos propostos nas aulas  presenciais e previstos nos plano de trabalho. Essas atividades serão passadas através de sala de aula virtual, utilizando a ferramenta Google Classroom. \n",
        "Serão presenciados de forma online:\n",
        "- aulas expositivas da parte teórica  e legal;\n",
        "- Apresentação das técnicas de levantamentos e locações;\n",
        "- Apresentação das práticas de elaboração de planta utilizando o QGis, Topocad (adquirido pelo Laboratório).\n",
        "\n",
        "##  FORMAS DE AVALIAÇÃO\n",
        "\n",
        "1º E.E.:  \n",
        "a.\tAtividades no Google Classroom a partir de Google Formulário sobre os Itens 1,3,4 e 5 da Ementa  (Peso 4)\n",
        "b.\tSeminário em Grupo sobre Proposta de Parcelamento de uma propriedade Rural para fins de assentamento da reforma agrária baseado na legislação e no conteúdo Ministrado , analise individual no aluno na apresentação ( Peso 6);\n",
        "2ºE.E.: \n",
        "a.\tAtividades no Google Classroom a partir de Google Formulário sobre os Itens 2,6,7 e 8 da Ementa  (Peso 4)\n",
        "b.\tSeminário em Grupo sobre Proposta de Parcelamento de uma Gleba Urbana para fins de aprovação de um projeto de Loteamento  baseado na legislação e no conteúdo ministrado , analise individual no aluno na apresentação ( Peso 6);\n",
        "\n",
        "> 1º E.E. =  a * (0,4) + b*(0,6)\n",
        "\n",
        "> 2ºE.E.=  a * (0,4) + b*(0,6)\n",
        "\n",
        "**Média= ( 1º E.E. + 2ºE.E.) /2**\n",
        "\n",
        "## UNIDADES PROGRAMÁTICAS\n",
        "\n",
        "[UNIDADES PROGRAMÁTICAS](http://https://1drv.ms/x/s!AjO4oAHV5BZuioozg3Ez9_Rd86UWbg?e=sxfTQx \"UNIDADES PROGRAMÁTICAS\")"
      ],
      "metadata": {
        "id": "TM6B2oYg9vaV"
      }
    },
    {
      "cell_type": "markdown",
      "source": [
        ""
      ],
      "metadata": {
        "id": "Zn88tTltAyPj"
      }
    }
  ]
}